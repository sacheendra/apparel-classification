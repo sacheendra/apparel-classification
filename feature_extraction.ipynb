{
 "cells": [
  {
   "cell_type": "code",
   "execution_count": 1,
   "metadata": {
    "collapsed": true
   },
   "outputs": [],
   "source": [
    "from load_data import ImageLoader\n",
    "from feature_extractors import SURFExtractor, HOGExtractor\n",
    "from vector_quantizer import VectorQuantizer\n",
    "import numpy as np\n",
    "import os\n",
    "from skimage import io"
   ]
  },
  {
   "cell_type": "code",
   "execution_count": 2,
   "metadata": {
    "collapsed": false
   },
   "outputs": [
    {
     "name": "stderr",
     "output_type": "stream",
     "text": [
      "/Users/sacheendra/anaconda/envs/multimedia_search/lib/python2.7/site-packages/skimage/util/dtype.py:122: UserWarning: Possible precision loss when converting from float64 to uint8\n",
      "  .format(dtypeobj_in, dtypeobj_out))\n"
     ]
    },
    {
     "name": "stdout",
     "output_type": "stream",
     "text": [
      "partial test data loaded\n",
      "partial train data loaded\n"
     ]
    }
   ],
   "source": [
    "loader = ImageLoader('fashion-data')\n",
    "train_data = loader.get_train_data()\n",
    "\n",
    "# if os.path.isfile(os.path.join('fashion-data', 'surf-features.npy')):\n",
    "#     print('loading SURF features for training data from numpy file')\n",
    "#     surf_features = loader.load_data('surf-features.npy')\n",
    "# else:\n",
    "#     print('extracting SURF features for training data')\n",
    "#     surf_features = SURFExtractor(train_data, 400).get_features()\n",
    "#     loader.store_data(surf_features, 'surf-features.npy')\n",
    "\n",
    "# reshaped_surf_features = np.ndarray.reshape(surf_features, (surf_features.shape[0]*surf_features.shape[1]*surf_features.shape[2], surf_features.shape[3]))"
   ]
  },
  {
   "cell_type": "code",
   "execution_count": 2,
   "metadata": {
    "collapsed": false
   },
   "outputs": [
    {
     "name": "stderr",
     "output_type": "stream",
     "text": [
      "/Users/sacheendra/anaconda/envs/multimedia_search/lib/python2.7/site-packages/skimage/util/dtype.py:122: UserWarning: Possible precision loss when converting from float64 to uint8\n",
      "  .format(dtypeobj_in, dtypeobj_out))\n"
     ]
    }
   ],
   "source": [
    "from skimage import transform, img_as_ubyte\n",
    "img = img_as_ubyte(transform.resize(io.imread(\n",
    "\t\t\t\t\tos.path.join('fashion-data', 'images', '0/n02854926/n02854926_10038_0' + '.jpg')), (320, 320), mode='reflect'))"
   ]
  },
  {
   "cell_type": "code",
   "execution_count": 4,
   "metadata": {
    "collapsed": false
   },
   "outputs": [
    {
     "data": {
      "text/plain": [
       "dtype('uint8')"
      ]
     },
     "execution_count": 4,
     "metadata": {},
     "output_type": "execute_result"
    }
   ],
   "source": [
    "img.dtype"
   ]
  }
 ],
 "metadata": {
  "kernelspec": {
   "display_name": "Python 2",
   "language": "python",
   "name": "python2"
  },
  "language_info": {
   "codemirror_mode": {
    "name": "ipython",
    "version": 2
   },
   "file_extension": ".py",
   "mimetype": "text/x-python",
   "name": "python",
   "nbconvert_exporter": "python",
   "pygments_lexer": "ipython2",
   "version": "2.7.13"
  }
 },
 "nbformat": 4,
 "nbformat_minor": 2
}
